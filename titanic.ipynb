{
 "cells": [
  {
   "cell_type": "markdown",
   "source": [
    "# Titanic Dataset\n",
    "## Objective: predict survival based on following variables\n",
    "PassengerId -> unlikely to have any impact, numerical row ID <br>\n",
    "Pclass (Passenger Class) -> 1st (1), 2nd (2), 3rd (3) <br>\n",
    "Name (includes Title) <br>\n",
    "Sex -> male, female <br>\n",
    "Age -> numerical <br>\n",
    "SibSp -> Number of Siblings / Spouse present <br>\n",
    "Parch -> Number Parents/Children present <br>\n",
    "Ticket -> Ticket Number <br>\n",
    "Fare -> How much the person paid for ticket <br>\n",
    "Cabin -> Cabin Number, includes deck as first letter, lots of missing values <br>\n",
    "Embarked -> where passenger boarded (C=Cherbourg, Q = Queenstown, S = Southampton) <br>\n",
    "<br>\n",
    "<br>\n",
    "\n",
    "## Things to do\n",
    "1.0 - Plot Variables against survival rate (get a sense of which variables are likely to impact survival) <br>\n",
    "2.0 - Deal with missing data: <br>\n",
    "2.1 - Age: regress with other variables (e.g., K-Nearest Neighbours?) create age groups (roughly equally spaced bins, based on distribution) <br>\n",
    "2.2 - Cabin: there may not be much point since so much data is missing but worth extracting deck, and converting to new variable <br>\n",
    "2.3 - Embarked - replace NaNs with mode (very few missing values) <br>\n",
    "3.0 - New variables: <br>\n",
    "3.1 - Age: create age groupings? <br>\n",
    "3.2 - Name: extract title and create new categorical variable <br>\n",
    "4.0 - Fix datatypes, incl. categorical -> dummies (get_dummies, OneHotEncoder)\n",
    "\n",
    "\n",
    "\n",
    "\n"
   ],
   "metadata": {
    "collapsed": false
   }
  },
  {
   "cell_type": "code",
   "execution_count": 57,
   "metadata": {
    "pycharm": {
     "name": "#%%\n"
    }
   },
   "outputs": [
    {
     "name": "stdout",
     "output_type": "stream",
     "text": [
      "   PassengerId  Survived  Pclass  \\\n",
      "0            1         0       3   \n",
      "1            2         1       1   \n",
      "2            3         1       3   \n",
      "3            4         1       1   \n",
      "4            5         0       3   \n",
      "\n",
      "                                                Name     Sex   Age  SibSp  \\\n",
      "0                            Braund, Mr. Owen Harris    male  22.0      1   \n",
      "1  Cumings, Mrs. John Bradley (Florence Briggs Th...  female  38.0      1   \n",
      "2                             Heikkinen, Miss. Laina  female  26.0      0   \n",
      "3       Futrelle, Mrs. Jacques Heath (Lily May Peel)  female  35.0      1   \n",
      "4                           Allen, Mr. William Henry    male  35.0      0   \n",
      "\n",
      "   Parch            Ticket     Fare Cabin Embarked  \n",
      "0      0         A/5 21171   7.2500   NaN        S  \n",
      "1      0          PC 17599  71.2833   C85        C  \n",
      "2      0  STON/O2. 3101282   7.9250   NaN        S  \n",
      "3      0            113803  53.1000  C123        S  \n",
      "4      0            373450   8.0500   NaN        S  \n",
      "<class 'pandas.core.frame.DataFrame'>\n",
      "RangeIndex: 891 entries, 0 to 890\n",
      "Data columns (total 12 columns):\n",
      " #   Column       Non-Null Count  Dtype  \n",
      "---  ------       --------------  -----  \n",
      " 0   PassengerId  891 non-null    int64  \n",
      " 1   Survived     891 non-null    int64  \n",
      " 2   Pclass       891 non-null    int64  \n",
      " 3   Name         891 non-null    object \n",
      " 4   Sex          891 non-null    object \n",
      " 5   Age          714 non-null    float64\n",
      " 6   SibSp        891 non-null    int64  \n",
      " 7   Parch        891 non-null    int64  \n",
      " 8   Ticket       891 non-null    object \n",
      " 9   Fare         891 non-null    float64\n",
      " 10  Cabin        204 non-null    object \n",
      " 11  Embarked     889 non-null    object \n",
      "dtypes: float64(2), int64(5), object(5)\n",
      "memory usage: 83.7+ KB\n",
      "None\n",
      "Index(['PassengerId', 'Pclass', 'Name', 'Sex', 'Age', 'SibSp', 'Parch',\n",
      "       'Ticket', 'Fare', 'Cabin', 'Embarked'],\n",
      "      dtype='object')\n"
     ]
    }
   ],
   "source": [
    "# Import initial modules\n",
    "import numpy as np # linear algebra\n",
    "import pandas as pd # data processing, CSV file I/O (e.g. pd.read_csv)\n",
    "\n",
    "# Import Data\n",
    "train = pd.read_csv('~/Documents/GitHub_Folder/titanic-kaggle/datasets/train.csv')\n",
    "print(train.head())\n",
    "print(train.info())\n",
    "train_orig = train.copy() # create a copy in case I fuck it up\n",
    "train.describe()\n",
    "\n",
    "test = pd.read_csv('~/Documents/GitHub_Folder/titanic-kaggle/datasets/test.csv')\n",
    "test_orig = test.copy() # create a copy in case I fuck it up\n",
    "print(test.columns)\n",
    "\n"
   ]
  },
  {
   "cell_type": "markdown",
   "metadata": {
    "collapsed": true,
    "tags": [],
    "pycharm": {
     "name": "#%% md\n"
    }
   },
   "source": [
    "## Plot the data and get a sense of what is inside... (Pending) <br>"
   ]
  },
  {
   "cell_type": "code",
   "execution_count": 58,
   "metadata": {
    "tags": []
   },
   "outputs": [],
   "source": [
    "# Check current datatypes and get a sense of values\n",
    "# print(train['PassengerId'].unique())\n",
    "# print(train['Survived'].unique()) # 0 = no\n",
    "# print(train['Pclass'].unique()) (category)\n",
    "# print(train['Name'].unique()) (text)\n",
    "# print(train['Sex'].unique()) (category)\n",
    "# print(train['Age'].unique()) (float)\n",
    "# print(train['SibSp'].unique()) # number of siblings on board (int)\n",
    "# print(train['Parch'].unique()) # number of parents/children on board (int)\n",
    "# print(train['Ticket'].unique()) # ticket number (number)\n",
    "# print(train['Fare'].unique()) # Passenger Fare (amount paid)\n",
    "# print(train['Cabin'].unique()) # Cabin Number (text)\n",
    "# print(train['Embarked'].unique()) # C=Cherbourg, Q = Queenstown, S = Southampton"
   ]
  },
  {
   "cell_type": "code",
   "execution_count": 59,
   "outputs": [
    {
     "name": "stdout",
     "output_type": "stream",
     "text": [
      "PassengerId      0\n",
      "Survived         0\n",
      "Pclass           0\n",
      "Name             0\n",
      "Sex              0\n",
      "Age            177\n",
      "SibSp            0\n",
      "Parch            0\n",
      "Ticket           0\n",
      "Fare             0\n",
      "Cabin          687\n",
      "Embarked         2\n",
      "dtype: int64\n",
      "PassengerId      0\n",
      "Pclass           0\n",
      "Name             0\n",
      "Sex              0\n",
      "Age             86\n",
      "SibSp            0\n",
      "Parch            0\n",
      "Ticket           0\n",
      "Fare             1\n",
      "Cabin          327\n",
      "Embarked         0\n",
      "dtype: int64\n"
     ]
    },
    {
     "data": {
      "text/plain": "<Figure size 1800x720 with 2 Axes>",
      "image/png": "[encoded data removed]"
     },
     "metadata": {
      "needs_background": "light"
     },
     "output_type": "display_data"
    },
    {
     "data": {
      "text/plain": "<Figure size 1800x720 with 2 Axes>",
      "image/png": "[encoded data removed]"
     },
     "metadata": {
      "needs_background": "light"
     },
     "output_type": "display_data"
    }
   ],
   "source": [
    "# Check for missing values\n",
    "print(train.isna().sum())\n",
    "print(test.isna().sum())\n",
    "\n",
    "# Print out pretty picture\n",
    "import missingno as msno\n",
    "import matplotlib.pyplot as plt\n",
    "msno.matrix(train)\n",
    "plt.title('Train Dataset')\n",
    "plt.show()\n",
    "msno.matrix(test)\n",
    "plt.title('Test Dataset')\n",
    "plt.show()"
   ],
   "metadata": {
    "collapsed": false,
    "pycharm": {
     "name": "#%%\n"
    }
   }
  },
  {
   "cell_type": "markdown",
   "source": [
    "Preliminary Data Cleaning (do on both train and test)\n",
    "- remove PassengerId\n",
    "- fix datatypes"
   ],
   "metadata": {
    "collapsed": false,
    "pycharm": {
     "name": "#%% md\n"
    }
   }
  },
  {
   "cell_type": "code",
   "execution_count": 60,
   "outputs": [
    {
     "name": "stdout",
     "output_type": "stream",
     "text": [
      "<class 'pandas.core.frame.DataFrame'>\n",
      "RangeIndex: 891 entries, 0 to 890\n",
      "Data columns (total 11 columns):\n",
      " #   Column    Non-Null Count  Dtype  \n",
      "---  ------    --------------  -----  \n",
      " 0   Survived  891 non-null    int64  \n",
      " 1   Pclass    891 non-null    int64  \n",
      " 2   Name      891 non-null    object \n",
      " 3   Sex       891 non-null    object \n",
      " 4   Age       714 non-null    float64\n",
      " 5   SibSp     891 non-null    int64  \n",
      " 6   Parch     891 non-null    int64  \n",
      " 7   Ticket    891 non-null    object \n",
      " 8   Fare      891 non-null    float64\n",
      " 9   Cabin     204 non-null    object \n",
      " 10  Embarked  889 non-null    object \n",
      "dtypes: float64(2), int64(4), object(5)\n",
      "memory usage: 76.7+ KB\n",
      "None\n",
      "<class 'pandas.core.frame.DataFrame'>\n",
      "RangeIndex: 418 entries, 0 to 417\n",
      "Data columns (total 10 columns):\n",
      " #   Column    Non-Null Count  Dtype  \n",
      "---  ------    --------------  -----  \n",
      " 0   Pclass    418 non-null    int64  \n",
      " 1   Name      418 non-null    object \n",
      " 2   Sex       418 non-null    object \n",
      " 3   Age       332 non-null    float64\n",
      " 4   SibSp     418 non-null    int64  \n",
      " 5   Parch     418 non-null    int64  \n",
      " 6   Ticket    418 non-null    object \n",
      " 7   Fare      417 non-null    float64\n",
      " 8   Cabin     91 non-null     object \n",
      " 9   Embarked  418 non-null    object \n",
      "dtypes: float64(2), int64(3), object(5)\n",
      "memory usage: 32.8+ KB\n",
      "None\n"
     ]
    }
   ],
   "source": [
    "# Drop PassengerId column from both Train and test\n",
    "train.drop(['PassengerId'], axis=1, inplace=True)\n",
    "print(train.info())\n",
    "test.drop(['PassengerId'], axis=1, inplace=True)\n",
    "print(test.info())"
   ],
   "metadata": {
    "collapsed": false,
    "pycharm": {
     "name": "#%%\n"
    }
   }
  },
  {
   "cell_type": "code",
   "execution_count": 61,
   "outputs": [
    {
     "name": "stdout",
     "output_type": "stream",
     "text": [
      "<class 'pandas.core.frame.DataFrame'>\n",
      "RangeIndex: 891 entries, 0 to 890\n",
      "Data columns (total 11 columns):\n",
      " #   Column    Non-Null Count  Dtype   \n",
      "---  ------    --------------  -----   \n",
      " 0   Survived  891 non-null    int64   \n",
      " 1   Pclass    891 non-null    category\n",
      " 2   Name      891 non-null    object  \n",
      " 3   Sex       891 non-null    category\n",
      " 4   Age       714 non-null    float64 \n",
      " 5   SibSp     891 non-null    int64   \n",
      " 6   Parch     891 non-null    int64   \n",
      " 7   Ticket    891 non-null    object  \n",
      " 8   Fare      891 non-null    float64 \n",
      " 9   Cabin     204 non-null    object  \n",
      " 10  Embarked  889 non-null    category\n",
      "dtypes: category(3), float64(2), int64(3), object(3)\n",
      "memory usage: 58.7+ KB\n",
      "<class 'pandas.core.frame.DataFrame'>\n",
      "RangeIndex: 418 entries, 0 to 417\n",
      "Data columns (total 10 columns):\n",
      " #   Column    Non-Null Count  Dtype   \n",
      "---  ------    --------------  -----   \n",
      " 0   Pclass    418 non-null    category\n",
      " 1   Name      418 non-null    object  \n",
      " 2   Sex       418 non-null    category\n",
      " 3   Age       332 non-null    float64 \n",
      " 4   SibSp     418 non-null    int64   \n",
      " 5   Parch     418 non-null    int64   \n",
      " 6   Ticket    418 non-null    object  \n",
      " 7   Fare      417 non-null    float64 \n",
      " 8   Cabin     91 non-null     object  \n",
      " 9   Embarked  418 non-null    category\n",
      "dtypes: category(3), float64(2), int64(2), object(3)\n",
      "memory usage: 24.5+ KB\n"
     ]
    }
   ],
   "source": [
    "# Fix Datatypes (Train)\n",
    "train['Sex'] = train['Sex'].astype('category')\n",
    "train['Pclass'] = train['Pclass'].astype('category')\n",
    "train['Embarked'] = train['Embarked'].astype('category')\n",
    "train.info()\n",
    "\n",
    "# Fix Datatypes (Test)\n",
    "test['Sex'] = test['Sex'].astype('category')\n",
    "test['Pclass'] = test['Pclass'].astype('category')\n",
    "test['Embarked'] = test['Embarked'].astype('category')\n",
    "test.info()"
   ],
   "metadata": {
    "collapsed": false,
    "pycharm": {
     "name": "#%%\n"
    }
   }
  },
  {
   "cell_type": "markdown",
   "source": [
    "## Let's work on name:"
   ],
   "metadata": {
    "collapsed": false,
    "pycharm": {
     "name": "#%% md\n"
    }
   }
  },
  {
   "cell_type": "code",
   "execution_count": 62,
   "outputs": [
    {
     "name": "stdout",
     "output_type": "stream",
     "text": [
      "['Mr.' 'Mrs.' 'Miss.' 'Master.' '' 'Rev.' 'Dr.' 'Mme.' 'Ms.' 'Lady.'\n",
      " 'Sir.' 'Mlle.' 'Col.' 'Capt.' 'the Countess. of']\n",
      "Mr.                 517\n",
      "Miss.               182\n",
      "Mrs.                125\n",
      "Master.              40\n",
      "Dr.                   7\n",
      "Rev.                  6\n",
      "                      4\n",
      "Mlle.                 2\n",
      "Col.                  2\n",
      "Lady.                 1\n",
      "Mme.                  1\n",
      "Capt.                 1\n",
      "the Countess. of      1\n",
      "Sir.                  1\n",
      "Ms.                   1\n",
      "Name: Title, dtype: int64\n"
     ]
    },
    {
     "name": "stderr",
     "output_type": "stream",
     "text": [
      "/Users/aharrisonbell/PycharmProjects/titanic-kaggle-pycharm/venv/lib/python3.7/site-packages/ipykernel_launcher.py:6: SettingWithCopyWarning: \n",
      "A value is trying to be set on a copy of a slice from a DataFrame\n",
      "\n",
      "See the caveats in the documentation: https://pandas.pydata.org/pandas-docs/stable/user_guide/indexing.html#returning-a-view-versus-a-copy\n",
      "  \n"
     ]
    }
   ],
   "source": [
    "from nameparser import HumanName\n",
    "names = train['Name'].astype(str)\n",
    "train['Title'] = \"\"\n",
    "for id in range(len(train)):\n",
    "    tempname = HumanName(names[id])\n",
    "    train['Title'][id] = tempname.title\n",
    "print(train['Title'].unique())\n",
    "print(train['Title'].value_counts())"
   ],
   "metadata": {
    "collapsed": false,
    "pycharm": {
     "name": "#%%\n"
    }
   }
  },
  {
   "cell_type": "code",
   "execution_count": 63,
   "outputs": [
    {
     "name": "stdout",
     "output_type": "stream",
     "text": [
      "['' 'Capt.' 'Col.' 'Dr.' 'Lady.' 'Master.' 'Miss.' 'Mlle.' 'Mme.' 'Mr.'\n",
      " 'Mrs.' 'Ms.' 'Rev.' 'Sir.' 'the Countess. of']\n"
     ]
    }
   ],
   "source": [
    "# Now... try to convert title to Label Encoded Categorical (eventually will use OHE)\n",
    "# titles = {'Mr.':1, 'Mrs.':2, 'Miss.':3, 'Master.':4, 'Rev.':5, 'Dr.':5, 'Mme.':6, 'Ms.':6, 'Lady.':6,\n",
    "# 'Sir.':5, 'Mlle.':6, 'Col.':5, 'Capt.':5, 'the Countess. of':6]\n",
    "from sklearn.preprocessing import LabelEncoder\n",
    "labelencoder = LabelEncoder()\n",
    "# Assigning numerical values and storing in another column\n",
    "train['Title_Cat'] = labelencoder.fit_transform(train['Title'])\n",
    "print(labelencoder.classes_)"
   ],
   "metadata": {
    "collapsed": false,
    "pycharm": {
     "name": "#%%\n"
    }
   }
  },
  {
   "cell_type": "code",
   "execution_count": 64,
   "outputs": [
    {
     "name": "stdout",
     "output_type": "stream",
     "text": [
      "    Survived Pclass                                               Name  \\\n",
      "0          0      3                            Braund, Mr. Owen Harris   \n",
      "1          1      1  Cumings, Mrs. John Bradley (Florence Briggs Th...   \n",
      "2          1      3                             Heikkinen, Miss. Laina   \n",
      "3          1      1       Futrelle, Mrs. Jacques Heath (Lily May Peel)   \n",
      "4          0      3                           Allen, Mr. William Henry   \n",
      "5          0      3                                   Moran, Mr. James   \n",
      "6          0      1                            McCarthy, Mr. Timothy J   \n",
      "7          0      3                     Palsson, Master. Gosta Leonard   \n",
      "8          1      3  Johnson, Mrs. Oscar W (Elisabeth Vilhelmina Berg)   \n",
      "9          1      2                Nasser, Mrs. Nicholas (Adele Achem)   \n",
      "10         1      3                    Sandstrom, Miss. Marguerite Rut   \n",
      "11         1      1                           Bonnell, Miss. Elizabeth   \n",
      "12         0      3                     Saundercock, Mr. William Henry   \n",
      "13         0      3                        Andersson, Mr. Anders Johan   \n",
      "14         0      3               Vestrom, Miss. Hulda Amanda Adolfina   \n",
      "\n",
      "       Sex   Age  SibSp  Parch            Ticket     Fare Cabin Embarked  \\\n",
      "0     male  22.0      1      0         A/5 21171   7.2500   NaN        S   \n",
      "1   female  38.0      1      0          PC 17599  71.2833   C85        C   \n",
      "2   female  26.0      0      0  STON/O2. 3101282   7.9250   NaN        S   \n",
      "3   female  35.0      1      0            113803  53.1000  C123        S   \n",
      "4     male  35.0      0      0            373450   8.0500   NaN        S   \n",
      "5     male   NaN      0      0            330877   8.4583   NaN        Q   \n",
      "6     male  54.0      0      0             17463  51.8625   E46        S   \n",
      "7     male   2.0      3      1            349909  21.0750   NaN        S   \n",
      "8   female  27.0      0      2            347742  11.1333   NaN        S   \n",
      "9   female  14.0      1      0            237736  30.0708   NaN        C   \n",
      "10  female   4.0      1      1           PP 9549  16.7000    G6        S   \n",
      "11  female  58.0      0      0            113783  26.5500  C103        S   \n",
      "12    male  20.0      0      0         A/5. 2151   8.0500   NaN        S   \n",
      "13    male  39.0      1      5            347082  31.2750   NaN        S   \n",
      "14  female  14.0      0      0            350406   7.8542   NaN        S   \n",
      "\n",
      "      Title  Title_Cat  \n",
      "0       Mr.          9  \n",
      "1      Mrs.         10  \n",
      "2     Miss.          6  \n",
      "3      Mrs.         10  \n",
      "4       Mr.          9  \n",
      "5       Mr.          9  \n",
      "6       Mr.          9  \n",
      "7   Master.          1  \n",
      "8      Mrs.         10  \n",
      "9      Mrs.         10  \n",
      "10    Miss.          6  \n",
      "11    Miss.          6  \n",
      "12      Mr.          9  \n",
      "13      Mr.          9  \n",
      "14    Miss.          6  \n",
      "[ 9 10  6  1  0  5 11]\n"
     ]
    }
   ],
   "source": [
    "# Combine Certain Titles (to account for v. low counts):\n",
    "male_titles = ('Dr.', 'Capt.', 'Col.','Master.', 'Rev.', 'Sir.') # set to 1 (Capt)\n",
    "female_titles = ('Lady.', 'Mlle.', 'Mme.','the Countess. of') # set to 5 (Lady)\n",
    "train.loc[train['Title'].isin(male_titles), 'Title_Cat' ] = 1\n",
    "train.loc[train['Title'].isin(female_titles), 'Title_Cat' ] = 5\n",
    "print(train.head(15))\n",
    "print(train['Title_Cat'].unique())\n"
   ],
   "metadata": {
    "collapsed": false,
    "pycharm": {
     "name": "#%%\n"
    }
   }
  },
  {
   "cell_type": "code",
   "execution_count": null,
   "outputs": [],
   "source": [
    "# will try: convert categoricals to dummies (get_dummies) then try KNN"
   ],
   "metadata": {
    "collapsed": false,
    "pycharm": {
     "name": "#%%\n"
    }
   }
  },
  {
   "cell_type": "code",
   "execution_count": null,
   "outputs": [],
   "source": [
    "cat_features = [\"Pclass\", \"Sex\", \"SibSp\", \"Parch\"]\n",
    "\n",
    "\n",
    "\n",
    " 3   Name         891 non-null    object\n",
    " 4   Sex          891 non-null    object\n",
    " 5   Age          714 non-null    float64\n",
    " 6   SibSp        891 non-null    int64\n",
    " 7   Parch        891 non-null    int64\n",
    " 8   Ticket       891 non-null    object\n",
    " 9   Fare         891 non-null    float64\n",
    " 10  Cabin        204 non-null    object\n",
    " 11  Embarked     889 non-null    object\n",
    "X = pd.get_dummies(train[features])\n",
    "X_test = pd.get_dummies(test[features])\n",
    "\n",
    "\n",
    "\n",
    "\n",
    "\n"
   ],
   "metadata": {
    "collapsed": false,
    "pycharm": {
     "name": "#%%\n"
    }
   }
  },
  {
   "cell_type": "markdown",
   "source": [
    "## Fix Datatypes"
   ],
   "metadata": {
    "collapsed": false
   }
  },
  {
   "cell_type": "code",
   "execution_count": null,
   "outputs": [],
   "source": [
    "# Deal with missing data (cont'd)\n",
    "# For age -> let's try to model the age based on other factors:\n",
    "from sklearn.linear_model import LinearRegression\n",
    "lin_reg = LinearRegression()\n",
    "\n",
    "temp_data = train.dropna(subset = ['Age']) # create temporary dataset without rows missing age\n",
    "\n",
    "y_age = temp_data['Age']\n",
    "X_age = temp_data[['Sex', 'SibSp','Parch', 'Fare']]\n",
    "\n",
    "from sklearn.preprocessing import OneHotEncoder\n",
    "cat_encoder = OneHotEncoder()\n",
    "X_age_corr = cat_encoder.fit_transform(X_age)\n",
    "print(X_age_corr.dtype)\n",
    "# print(y_age)\n",
    "#print(X_age)\n",
    "print(X_age_corr[:5,:])\n",
    "\n",
    "# lin_reg.fit(X_age, y_age)\n",
    "\n",
    "\n"
   ],
   "metadata": {
    "collapsed": false,
    "pycharm": {
     "name": "#%%\n"
    }
   }
  },
  {
   "cell_type": "markdown",
   "source": [
    "# Deal with Missing Data: <br>\n",
    "Age (lots!) - very important <br>\n",
    "Embarked (2) - maybe important... <br>\n",
    "Cabin (lots) - maybe important (PS - yes, important because letter at front indicates WHERE on the boat they were located) <br>\n"
   ],
   "metadata": {
    "collapsed": false
   }
  },
  {
   "cell_type": "code",
   "execution_count": null,
   "outputs": [],
   "source": [
    "# Deal with Embarked first - for now, just use mode response\n",
    "embarked_mode = train['Embarked'].mode()\n",
    "train['Embarked'] = train.fillna(embarked_mode)\n",
    "train.isna().sum()\n",
    "\n",
    "# Deal with Embarked first - for now, just use mode response\n",
    "embarked_mode = test['Embarked'].mode()\n",
    "test['Embarked'] = test.fillna(embarked_mode)\n",
    "test.isna().sum()\n"
   ],
   "metadata": {
    "collapsed": false,
    "pycharm": {
     "name": "#%%\n"
    }
   }
  },
  {
   "cell_type": "code",
   "execution_count": null,
   "outputs": [],
   "source": [
    "# Remove nans\n",
    "\n",
    "\n",
    "# Convert some datatypes\n",
    "\n",
    "\n",
    "from sklearn.preprocessing import OneHotEncoder\n",
    "train_cat_var = OneHotEncoder.fit_transform(train[['Pclass', 'Embarked']])\n",
    "\n",
    "\n",
    "\n",
    "\n",
    "\n",
    "\n",
    "\n",
    "\n"
   ],
   "metadata": {
    "collapsed": false,
    "pycharm": {
     "name": "#%%\n"
    }
   }
  },
  {
   "cell_type": "markdown",
   "metadata": {},
   "source": [
    "## Fix Datatypes"
   ]
  },
  {
   "cell_type": "code",
   "execution_count": null,
   "metadata": {
    "tags": []
   },
   "outputs": [],
   "source": [
    "# Deal with missing data (cont'd)\n",
    "# For age -> let's try to model the age based on other factors:\n",
    "from sklearn.linear_model import LinearRegression\n",
    "lin_reg = LinearRegression()\n",
    "\n",
    "temp_data = train.dropna(subset = ['Age']) # create temporary dataset without rows missing age\n",
    "\n",
    "y_age = temp_data['Age']\n",
    "X_age = temp_data[['Sex', 'SibSp','Parch', 'Fare']]\n",
    "\n",
    "from sklearn.preprocessing import OneHotEncoder\n",
    "cat_encoder = OneHotEncoder()\n",
    "X_age_corr = cat_encoder.fit_transform(X_age)\n",
    "print(X_age_corr.dtype)\n",
    "# print(y_age)\n",
    "#print(X_age)\n",
    "print(X_age_corr[:5,:])\n",
    "\n",
    "# lin_reg.fit(X_age, y_age)\n",
    "\n",
    "\n"
   ]
  },
  {
   "cell_type": "markdown",
   "metadata": {},
   "source": [
    "# Deal with Missing Data: <br>\n",
    "Age (lots!) - very important <br>\n",
    "Embarked (2) - maybe important... <br>\n",
    "Cabin (lots) - maybe important (PS - yes, important because letter at front indicates WHERE on the boat they were located) <br>\n"
   ]
  },
  {
   "cell_type": "code",
   "execution_count": null,
   "metadata": {
    "tags": []
   },
   "outputs": [],
   "source": [
    "# Deal with Embarked first - for now, just use mode response\n",
    "embarked_mode = train['Embarked'].mode()\n",
    "train['Embarked'] = train.fillna(embarked_mode)\n",
    "train.isna().sum()"
   ]
  },
  {
   "cell_type": "code",
   "execution_count": null,
   "metadata": {},
   "outputs": [],
   "source": [
    "# Remove nans\n",
    "\n",
    "\n",
    "# Convert some datatypes\n",
    "\n",
    "\n",
    "from sklearn.preprocessing import OneHotEncoder\n",
    "train_cat_var = OneHotEncoder.fit_transform(train[['Pclass', 'Embarked']])\n",
    "\n",
    "\n"
   ]
  },
  {
   "cell_type": "code",
   "execution_count": null,
   "metadata": {
    "tags": []
   },
   "outputs": [],
   "source": [
    "women = train.loc[train.Sex == 'female']['Survived']\n",
    "rate_women = sum(women)/len(women)\n",
    "\n",
    "men = train.loc[train.Sex == 'male']['Survived']\n",
    "rate_men = sum(men)/len(men)\n",
    "\n",
    "print('The proportion of women that survived (based on training set is): ' + str(rate_women))\n",
    "print('The proportion of men that survived (based on training set is): ' + str(rate_men))"
   ]
  },
  {
   "cell_type": "markdown",
   "metadata": {
    "pycharm": {
     "name": "#%% md\n"
    }
   },
   "source": [
    "### Initial Submission\n",
    "This uses a Random Forest Classifier (fine) but only on 4 features (ignoring age, name, fare, etc.)"
   ]
  },
  {
   "cell_type": "code",
   "execution_count": null,
   "metadata": {
    "pycharm": {
     "name": "#%%\n"
    }
   },
   "outputs": [],
   "source": [
    "women = train.loc[train.Sex == 'female']['Survived']\n",
    "rate_women = sum(women)/len(women)\n",
    "\n",
    "men = train.loc[train.Sex == 'male']['Survived']\n",
    "rate_men = sum(men)/len(men)\n",
    "\n",
    "print('The proportion of women that survived (based on training set is): ' + str(rate_women))\n",
    "print('The proportion of men that survived (based on training set is): ' + str(rate_men))"
   ]
  },
  {
   "cell_type": "code",
   "execution_count": null,
   "outputs": [],
   "source": [
    "from sklearn.ensemble import RandomForestClassifier\n",
    "\n",
    "y = train[\"Survived\"]\n",
    "\n",
    "features = [\"Pclass\", \"Sex\", \"SibSp\", \"Parch\"]\n",
    "X = pd.get_dummies(train[features])\n",
    "X_test = pd.get_dummies(test[features])\n",
    "\n",
    "model = RandomForestClassifier(n_estimators=100, max_depth=5, random_state=1)\n",
    "model.fit(X, y)\n",
    "predictions = model.predict(X_test)\n",
    "\n",
    "output = pd.DataFrame({'PassengerId': test.PassengerId, 'Survived': predictions})\n",
    "output.to_csv('my_submission.csv', index=False)\n",
    "print(\"Your submission was successfully saved!\")"
   ],
   "metadata": {
    "collapsed": false,
    "pycharm": {
     "name": "#%%\n"
    }
   }
  }
 ],
 "metadata": {
  "kernelspec": {
   "name": "python3",
   "language": "python",
   "display_name": "Python 3"
  },
  "language_info": {
   "codemirror_mode": {
    "name": "ipython",
    "version": 2
   },
   "file_extension": ".py",
   "mimetype": "text/x-python",
   "name": "python",
   "nbconvert_exporter": "python",
   "pygments_lexer": "ipython2",
   "version": "3.6.10-final"
  }
 },
 "nbformat": 4,
 "nbformat_minor": 0
}