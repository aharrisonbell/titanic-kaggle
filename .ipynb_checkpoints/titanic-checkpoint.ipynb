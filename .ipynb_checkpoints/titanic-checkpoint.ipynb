{
 "cells": [
  {
   "cell_type": "markdown",
   "source": [
    "# Titanic Dataset"
   ],
   "metadata": {
    "collapsed": false
   }
  },
  {
   "cell_type": "markdown",
   "metadata": {},
   "source": [
    "#\n",
    "import numpy as np # linear algebra\n",
    "import pandas as pd # data processing, CSV file I/O (e.g. pd.read_csv)\n",
    "\n",
    "# Import Data\n",
    "train = pd.read_csv('~/Documents/GitHub_Folder/titanic-kaggle/datasets/train.csv')\n",
    "print(train.head())\n",
    "print(train.columns)\n",
    "\n",
    "train_orig = train.copy() # create a copy in case I fuck it up\n",
    "test = pd.read_csv('~/Documents/GitHub_Folder/titanic-kaggle/datasets/test.csv')\n",
    "\n",
    "train.describe()\n"
   ]
  },
  {
   "cell_type": "code",
   "execution_count": 11,
   "metadata": {
    "collapsed": true,
    "tags": []
   },
   "outputs": [],
   "source": [
    "## Import the data and get a sense of what is inside..."
   ]
  },
  {
   "cell_type": "markdown",
   "metadata": {
    "pycharm": {
     "name": "#%% md\n"
    }
   },
   "source": [
    "# Check current datatypes and get a sense of values\n",
    "# print(train['PassengerId'].unique())\n",
    "print(train['Survived'].unique()) # 0 = no\n",
    "# print(train['Pclass'].unique()) (category)\n",
    "# print(train['Name'].unique()) (text)\n",
    "# print(train['Sex'].unique()) (category)\n",
    "# print(train['Age'].unique()) (float)\n",
    "# print(train['SibSp'].unique()) # number of siblings on board (int)\n",
    "# print(train['Parch'].unique()) # number of parents/children on board (int)\n",
    "# print(train['Ticket'].unique()) # ticket number (number)\n",
    "# print(train['Fare'].unique()) # Passenger Fare (amount paid)\n",
    "# print(train['Cabin'].unique()) # Cabin Number (text)\n",
    "# print(train['Embarked'].unique()) # C=Cherbourg, Q = Queenstown, S = Southampton"
   ]
  },
  {
   "cell_type": "code",
   "execution_count": 12,
   "metadata": {
    "tags": []
   },
   "outputs": [
    {
     "ename": "NameError",
     "evalue": "name 'train' is not defined",
     "output_type": "error",
     "traceback": [
      "\u001B[0;31m---------------------------------------------------------------------------\u001B[0m",
      "\u001B[0;31mNameError\u001B[0m                                 Traceback (most recent call last)",
      "\u001B[0;32m<ipython-input-12-f4e7806e4eea>\u001B[0m in \u001B[0;36m<module>\u001B[0;34m\u001B[0m\n\u001B[1;32m      1\u001B[0m \u001B[0;31m# Check for missing values\u001B[0m\u001B[0;34m\u001B[0m\u001B[0;34m\u001B[0m\u001B[0;34m\u001B[0m\u001B[0m\n\u001B[0;32m----> 2\u001B[0;31m \u001B[0mprint\u001B[0m\u001B[0;34m(\u001B[0m\u001B[0mtrain\u001B[0m\u001B[0;34m.\u001B[0m\u001B[0misna\u001B[0m\u001B[0;34m(\u001B[0m\u001B[0;34m)\u001B[0m\u001B[0;34m.\u001B[0m\u001B[0msum\u001B[0m\u001B[0;34m(\u001B[0m\u001B[0;34m)\u001B[0m\u001B[0;34m)\u001B[0m\u001B[0;34m\u001B[0m\u001B[0;34m\u001B[0m\u001B[0m\n\u001B[0m\u001B[1;32m      3\u001B[0m \u001B[0;34m\u001B[0m\u001B[0m\n\u001B[1;32m      4\u001B[0m \u001B[0;31m# Print out pretty picture\u001B[0m\u001B[0;34m\u001B[0m\u001B[0;34m\u001B[0m\u001B[0;34m\u001B[0m\u001B[0m\n\u001B[1;32m      5\u001B[0m \u001B[0;32mimport\u001B[0m \u001B[0mmissingno\u001B[0m \u001B[0;32mas\u001B[0m \u001B[0mmsno\u001B[0m\u001B[0;34m\u001B[0m\u001B[0;34m\u001B[0m\u001B[0m\n",
      "\u001B[0;31mNameError\u001B[0m: name 'train' is not defined"
     ]
    }
   ],
   "source": [
    "# Check current datatypes and get a sense of values\n",
    "# print(train['PassengerId'].unique())\n",
    "# print(train['Survived'].unique()) # 0 = no\n",
    "# print(train['Pclass'].unique()) (category)\n",
    "# print(train['Name'].unique()) (text)\n",
    "# print(train['Sex'].unique()) (category)\n",
    "# print(train['Age'].unique()) (float)\n",
    "# print(train['SibSp'].unique()) # number of siblings on board (int)\n",
    "# print(train['Parch'].unique()) # number of parents/children on board (int)\n",
    "# print(train['Ticket'].unique()) # ticket number (number)\n",
    "# print(train['Fare'].unique()) # Passenger Fare (amount paid)\n",
    "# print(train['Cabin'].unique()) # Cabin Number (text)\n",
    "# print(train['Embarked'].unique()) # C=Cherbourg, Q = Queenstown, S = Southampton"
   ]
  },
  {
   "cell_type": "code",
   "execution_count": null,
   "outputs": [],
   "source": [
    "# Check for missing values\n",
    "print(train.isna().sum())\n",
    "\n",
    "# Print out pretty picture\n",
    "import missingno as msno\n",
    "import matplotlib.pyplot as plt\n",
    "msno.matrix(train)\n",
    "plt.show()"
   ],
   "metadata": {
    "collapsed": false,
    "pycharm": {
     "name": "#%%\n"
    }
   }
  },
  {
   "cell_type": "code",
   "execution_count": null,
   "outputs": [],
   "source": [
    "# Fix Datatypes\n",
    "train['Sex'] = train['Sex'].astype('category')\n",
    "train['Survived'] = train['Survived'].astype(bool) # since this is our output variable, it's not really important but ...\n",
    "train['Pclass'] = train['Pclass'].astype('category')\n",
    "train['Embarked'] = train['Embarked'].astype('category')\n",
    "train.info()\n",
    "\n"
   ],
   "metadata": {
    "collapsed": false,
    "pycharm": {
     "name": "#%%\n"
    }
   }
  },
  {
   "cell_type": "markdown",
   "source": [
    "## Fix Datatypes"
   ],
   "metadata": {
    "collapsed": false
   }
  },
  {
   "cell_type": "code",
   "execution_count": null,
   "outputs": [],
   "source": [
    "# Deal with missing data (cont'd)\n",
    "# For age -> let's try to model the age based on other factors:\n",
    "from sklearn.linear_model import LinearRegression\n",
    "lin_reg = LinearRegression()\n",
    "\n",
    "temp_data = train.dropna(subset = ['Age']) # create temporary dataset without rows missing age\n",
    "\n",
    "y_age = temp_data['Age']\n",
    "X_age = temp_data[['Sex', 'SibSp','Parch', 'Fare']]\n",
    "\n",
    "from sklearn.preprocessing import OneHotEncoder\n",
    "cat_encoder = OneHotEncoder()\n",
    "X_age_corr = cat_encoder.fit_transform(X_age)\n",
    "print(X_age_corr.dtype)\n",
    "# print(y_age)\n",
    "#print(X_age)\n",
    "print(X_age_corr[:5,:])\n",
    "\n",
    "# lin_reg.fit(X_age, y_age)\n",
    "\n",
    "\n"
   ],
   "metadata": {
    "collapsed": false,
    "pycharm": {
     "name": "#%%\n"
    }
   }
  },
  {
   "cell_type": "markdown",
   "source": [
    "# Deal with Missing Data: <br>\n",
    "Age (lots!) - very important <br>\n",
    "Embarked (2) - maybe important... <br>\n",
    "Cabin (lots) - maybe important (PS - yes, important because letter at front indicates WHERE on the boat they were located) <br>\n"
   ],
   "metadata": {
    "collapsed": false
   }
  },
  {
   "cell_type": "code",
   "execution_count": null,
   "outputs": [],
   "source": [
    "# Deal with Embarked first - for now, just use mode response\n",
    "embarked_mode = train['Embarked'].mode()\n",
    "train['Embarked'] = train.fillna(embarked_mode)\n",
    "train.isna().sum()"
   ],
   "metadata": {
    "collapsed": false,
    "pycharm": {
     "name": "#%%\n"
    }
   }
  },
  {
   "cell_type": "code",
   "execution_count": null,
   "outputs": [],
   "source": [
    "# Remove nans\n",
    "\n",
    "\n",
    "# Convert some datatypes\n",
    "\n",
    "\n",
    "from sklearn.preprocessing import OneHotEncoder\n",
    "train_cat_var = OneHotEncoder.fit_transform(train[['Pclass', 'Embarked']])\n",
    "\n",
    "\n"
   ],
   "metadata": {
    "collapsed": false,
    "pycharm": {
     "name": "#%%\n"
    }
   }
  },
  {
   "cell_type": "code",
   "execution_count": null,
   "outputs": [],
   "source": [
    "women = train.loc[train.Sex == 'female']['Survived']\n",
    "rate_women = sum(women)/len(women)\n",
    "\n",
    "men = train.loc[train.Sex == 'male']['Survived']\n",
    "rate_men = sum(men)/len(men)\n",
    "\n",
    "print('The proportion of women that survived (based on training set is): ' + str(rate_women))\n",
    "print('The proportion of men that survived (based on training set is): ' + str(rate_men))"
   ],
   "metadata": {
    "collapsed": false,
    "pycharm": {
     "name": "#%%\n"
    }
   }
  },
  {
   "cell_type": "code",
   "execution_count": null,
   "outputs": [],
   "source": [],
   "metadata": {
    "collapsed": false,
    "pycharm": {
     "name": "#%%\n"
    }
   }
  },
  {
   "cell_type": "code",
   "execution_count": null,
   "outputs": [],
   "source": [
    "from sklearn.ensemble import RandomForestClassifier\n",
    "\n",
    "y = train[\"Survived\"]\n",
    "\n",
    "features = [\"Pclass\", \"Sex\", \"SibSp\", \"Parch\"]\n",
    "X = pd.get_dummies(train[features])\n",
    "X_test = pd.get_dummies(test[features])\n",
    "\n",
    "model = RandomForestClassifier(n_estimators=100, max_depth=5, random_state=1)\n",
    "model.fit(X, y)\n",
    "predictions = model.predict(X_test)\n",
    "\n",
    "output = pd.DataFrame({'PassengerId': test.PassengerId, 'Survived': predictions})\n",
    "output.to_csv('my_submission.csv', index=False)\n",
    "print(\"Your submission was successfully saved!\")\n",
    "\n",
    "\n",
    "\n",
    "\n",
    "\n"
   ],
   "metadata": {
    "collapsed": false,
    "pycharm": {
     "name": "#%%\n"
    }
   }
  },
  {
   "cell_type": "code",
   "execution_count": null,
   "metadata": {
    "tags": []
   },
   "outputs": [],
   "source": []
  },
  {
   "cell_type": "code",
   "execution_count": null,
   "metadata": {
    "tags": []
   },
   "outputs": [],
   "source": [
    "# Fix Datatypes\n",
    "train['Sex'] = train['Sex'].astype('category')\n",
    "train['Survived'] = train['Survived'].astype(bool) # since this is our output variable, it's not really important but ...\n",
    "train['Pclass'] = train['Pclass'].astype('category')\n",
    "train['Embarked'] = train['Embarked'].astype('category')\n",
    "train.info()\n",
    "\n",
    "# Could\n",
    "\n"
   ]
  },
  {
   "cell_type": "markdown",
   "metadata": {},
   "source": [
    "## Fix Datatypes"
   ]
  },
  {
   "cell_type": "code",
   "execution_count": null,
   "metadata": {
    "tags": []
   },
   "outputs": [],
   "source": [
    "# Deal with missing data (cont'd)\n",
    "# For age -> let's try to model the age based on other factors:\n",
    "from sklearn.linear_model import LinearRegression\n",
    "lin_reg = LinearRegression()\n",
    "\n",
    "temp_data = train.dropna(subset = ['Age']) # create temporary dataset without rows missing age\n",
    "\n",
    "y_age = temp_data['Age']\n",
    "X_age = temp_data[['Sex', 'SibSp','Parch', 'Fare']]\n",
    "\n",
    "from sklearn.preprocessing import OneHotEncoder\n",
    "cat_encoder = OneHotEncoder()\n",
    "X_age_corr = cat_encoder.fit_transform(X_age)\n",
    "print(X_age_corr.dtype)\n",
    "# print(y_age)\n",
    "#print(X_age)\n",
    "print(X_age_corr[:5,:])\n",
    "\n",
    "# lin_reg.fit(X_age, y_age)\n",
    "\n",
    "\n"
   ]
  },
  {
   "cell_type": "markdown",
   "metadata": {},
   "source": [
    "# Deal with Missing Data: <br>\n",
    "Age (lots!) - very important <br>\n",
    "Embarked (2) - maybe important... <br>\n",
    "Cabin (lots) - maybe important (PS - yes, important because letter at front indicates WHERE on the boat they were located) <br>\n"
   ]
  },
  {
   "cell_type": "code",
   "execution_count": null,
   "metadata": {
    "tags": []
   },
   "outputs": [],
   "source": [
    "# Deal with Embarked first - for now, just use mode response\n",
    "embarked_mode = train['Embarked'].mode()\n",
    "train['Embarked'] = train.fillna(embarked_mode)\n",
    "train.isna().sum()"
   ]
  },
  {
   "cell_type": "code",
   "execution_count": null,
   "metadata": {},
   "outputs": [],
   "source": [
    "# Remove nans\n",
    "\n",
    "\n",
    "# Convert some datatypes\n",
    "\n",
    "\n",
    "from sklearn.preprocessing import OneHotEncoder\n",
    "train_cat_var = OneHotEncoder.fit_transform(train[['Pclass', 'Embarked']])\n",
    "\n",
    "\n"
   ]
  },
  {
   "cell_type": "code",
   "execution_count": null,
   "metadata": {
    "tags": []
   },
   "outputs": [],
   "source": [
    "women = train.loc[train.Sex == 'female']['Survived']\n",
    "rate_women = sum(women)/len(women)\n",
    "\n",
    "men = train.loc[train.Sex == 'male']['Survived']\n",
    "rate_men = sum(men)/len(men)\n",
    "\n",
    "print('The proportion of women that survived (based on training set is): ' + str(rate_women))\n",
    "print('The proportion of men that survived (based on training set is): ' + str(rate_men))"
   ]
  },
  {
   "cell_type": "code",
   "execution_count": null,
   "metadata": {},
   "outputs": [],
   "source": []
  },
  {
   "cell_type": "code",
   "execution_count": null,
   "metadata": {},
   "outputs": [],
   "source": [
    "from sklearn.ensemble import RandomForestClassifier\n",
    "\n",
    "y = train[\"Survived\"]\n",
    "\n",
    "features = [\"Pclass\", \"Sex\", \"SibSp\", \"Parch\"]\n",
    "X = pd.get_dummies(train[features])\n",
    "X_test = pd.get_dummies(test[features])\n",
    "\n",
    "model = RandomForestClassifier(n_estimators=100, max_depth=5, random_state=1)\n",
    "model.fit(X, y)\n",
    "predictions = model.predict(X_test)\n",
    "\n",
    "output = pd.DataFrame({'PassengerId': test.PassengerId, 'Survived': predictions})\n",
    "output.to_csv('my_submission.csv', index=False)\n",
    "print(\"Your submission was successfully saved!\")"
   ]
  },
  {
   "cell_type": "markdown",
   "metadata": {},
   "source": [
    "# Step 0 - Get a sense of the data . \n",
    "What type of data are found in each field?  \n",
    "PassengerId -> numerical, 1...x . <br>\n",
    "Survived -> 0's, 1's . <br>\n",
    "Pclass -> 1, 2, 3\n",
    "Name -> Name\n",
    "Sex -> \n",
    "Age ->\n",
    "SibSp ->\n",
    "Parch ->\n",
    "Ticket ->\n",
    "Fare ->\n",
    "Cabin ->\n",
    "Embarked\n",
    "\n",
    "\n",
    "\n",
    "\n",
    "\n"
   ]
  },
  {
   "cell_type": "code",
   "execution_count": null,
   "metadata": {},
   "outputs": [],
   "source": [
    "print(train.unique())"
   ]
  },
  {
   "cell_type": "code",
   "execution_count": null,
   "metadata": {
    "tags": []
   },
   "outputs": [],
   "source": [
    "%matplotlib inline\n",
    "\n",
    "\n",
    "\n",
    "\n",
    "\n"
   ]
  },
  {
   "cell_type": "code",
   "execution_count": null,
   "metadata": {},
   "outputs": [],
   "source": []
  }
 ],
 "metadata": {
  "kernelspec": {
   "name": "python3",
   "language": "python",
   "display_name": "Python 3"
  },
  "language_info": {
   "codemirror_mode": {
    "name": "ipython",
    "version": 2
   },
   "file_extension": ".py",
   "mimetype": "text/x-python",
   "name": "python",
   "nbconvert_exporter": "python",
   "pygments_lexer": "ipython2",
   "version": "3.6.10-final"
  }
 },
 "nbformat": 4,
 "nbformat_minor": 0
}